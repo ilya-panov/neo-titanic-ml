{
 "metadata": {
  "orig_nbformat": 2,
  "kernelspec": {
   "name": "python3",
   "display_name": "Python 3",
   "language": "python"
  },
  "metadata": {
   "interpreter": {
    "hash": "50bb2ec90a159b74dbaae3a6dbdae5dd5e4eb0f03e82b4ed2dfd1799f84dcc9b"
   }
  }
 },
 "nbformat": 4,
 "nbformat_minor": 2,
 "cells": [
  {
   "cell_type": "code",
   "execution_count": 1,
   "metadata": {},
   "outputs": [],
   "source": [
    "import json\n",
    "\n",
    "import pandas as pd\n",
    "import numpy as np\n",
    "\n",
    "from sklearn.model_selection import train_test_split\n",
    "from sklearn.preprocessing import LabelEncoder, StandardScaler\n",
    "from sklearn.svm import SVC\n",
    "from sklearn.metrics import accuracy_score\n",
    "\n",
    "pd.options.mode.chained_assignment = None"
   ]
  },
  {
   "cell_type": "code",
   "execution_count": 2,
   "metadata": {},
   "outputs": [],
   "source": [
    "SRC_TRAIN = \"../../../data/src/train.csv\"\n",
    "TRAIN = \"../../../data/train.csv\"\n",
    "TEST = \"../../../data/test.csv\"\n",
    "CONFIG = \"../../../data/conf.json\""
   ]
  },
  {
   "source": [
    "# Чтение данных"
   ],
   "cell_type": "markdown",
   "metadata": {}
  },
  {
   "cell_type": "code",
   "execution_count": 3,
   "metadata": {},
   "outputs": [],
   "source": [
    "df = pd.read_csv(SRC_TRAIN)"
   ]
  },
  {
   "cell_type": "code",
   "execution_count": 4,
   "metadata": {},
   "outputs": [
    {
     "output_type": "execute_result",
     "data": {
      "text/plain": [
       "   PassengerId  Survived  Pclass  \\\n",
       "0            1         0       3   \n",
       "1            2         1       1   \n",
       "2            3         1       3   \n",
       "3            4         1       1   \n",
       "4            5         0       3   \n",
       "\n",
       "                                                Name     Sex   Age  SibSp  \\\n",
       "0                            Braund, Mr. Owen Harris    male  22.0      1   \n",
       "1  Cumings, Mrs. John Bradley (Florence Briggs Th...  female  38.0      1   \n",
       "2                             Heikkinen, Miss. Laina  female  26.0      0   \n",
       "3       Futrelle, Mrs. Jacques Heath (Lily May Peel)  female  35.0      1   \n",
       "4                           Allen, Mr. William Henry    male  35.0      0   \n",
       "\n",
       "   Parch            Ticket     Fare Cabin Embarked  \n",
       "0      0         A/5 21171   7.2500   NaN        S  \n",
       "1      0          PC 17599  71.2833   C85        C  \n",
       "2      0  STON/O2. 3101282   7.9250   NaN        S  \n",
       "3      0            113803  53.1000  C123        S  \n",
       "4      0            373450   8.0500   NaN        S  "
      ],
      "text/html": "<div>\n<style scoped>\n    .dataframe tbody tr th:only-of-type {\n        vertical-align: middle;\n    }\n\n    .dataframe tbody tr th {\n        vertical-align: top;\n    }\n\n    .dataframe thead th {\n        text-align: right;\n    }\n</style>\n<table border=\"1\" class=\"dataframe\">\n  <thead>\n    <tr style=\"text-align: right;\">\n      <th></th>\n      <th>PassengerId</th>\n      <th>Survived</th>\n      <th>Pclass</th>\n      <th>Name</th>\n      <th>Sex</th>\n      <th>Age</th>\n      <th>SibSp</th>\n      <th>Parch</th>\n      <th>Ticket</th>\n      <th>Fare</th>\n      <th>Cabin</th>\n      <th>Embarked</th>\n    </tr>\n  </thead>\n  <tbody>\n    <tr>\n      <th>0</th>\n      <td>1</td>\n      <td>0</td>\n      <td>3</td>\n      <td>Braund, Mr. Owen Harris</td>\n      <td>male</td>\n      <td>22.0</td>\n      <td>1</td>\n      <td>0</td>\n      <td>A/5 21171</td>\n      <td>7.2500</td>\n      <td>NaN</td>\n      <td>S</td>\n    </tr>\n    <tr>\n      <th>1</th>\n      <td>2</td>\n      <td>1</td>\n      <td>1</td>\n      <td>Cumings, Mrs. John Bradley (Florence Briggs Th...</td>\n      <td>female</td>\n      <td>38.0</td>\n      <td>1</td>\n      <td>0</td>\n      <td>PC 17599</td>\n      <td>71.2833</td>\n      <td>C85</td>\n      <td>C</td>\n    </tr>\n    <tr>\n      <th>2</th>\n      <td>3</td>\n      <td>1</td>\n      <td>3</td>\n      <td>Heikkinen, Miss. Laina</td>\n      <td>female</td>\n      <td>26.0</td>\n      <td>0</td>\n      <td>0</td>\n      <td>STON/O2. 3101282</td>\n      <td>7.9250</td>\n      <td>NaN</td>\n      <td>S</td>\n    </tr>\n    <tr>\n      <th>3</th>\n      <td>4</td>\n      <td>1</td>\n      <td>1</td>\n      <td>Futrelle, Mrs. Jacques Heath (Lily May Peel)</td>\n      <td>female</td>\n      <td>35.0</td>\n      <td>1</td>\n      <td>0</td>\n      <td>113803</td>\n      <td>53.1000</td>\n      <td>C123</td>\n      <td>S</td>\n    </tr>\n    <tr>\n      <th>4</th>\n      <td>5</td>\n      <td>0</td>\n      <td>3</td>\n      <td>Allen, Mr. William Henry</td>\n      <td>male</td>\n      <td>35.0</td>\n      <td>0</td>\n      <td>0</td>\n      <td>373450</td>\n      <td>8.0500</td>\n      <td>NaN</td>\n      <td>S</td>\n    </tr>\n  </tbody>\n</table>\n</div>"
     },
     "metadata": {},
     "execution_count": 4
    }
   ],
   "source": [
    "df.head()"
   ]
  },
  {
   "source": [
    "Избавимся от столбцов, которые для выбранного решения \"кажутся\" бесполезными"
   ],
   "cell_type": "markdown",
   "metadata": {}
  },
  {
   "cell_type": "code",
   "execution_count": 5,
   "metadata": {},
   "outputs": [],
   "source": [
    "df = df.drop(\"PassengerId\", axis=1)\n",
    "df = df.drop(\"Name\", axis=1)\n",
    "df = df.drop(\"Ticket\", axis=1)\n",
    "df = df.drop(\"Cabin\", axis=1)"
   ]
  },
  {
   "cell_type": "code",
   "execution_count": 6,
   "metadata": {},
   "outputs": [
    {
     "output_type": "execute_result",
     "data": {
      "text/plain": [
       "   Survived  Pclass     Sex   Age  SibSp  Parch     Fare Embarked\n",
       "0         0       3    male  22.0      1      0   7.2500        S\n",
       "1         1       1  female  38.0      1      0  71.2833        C\n",
       "2         1       3  female  26.0      0      0   7.9250        S\n",
       "3         1       1  female  35.0      1      0  53.1000        S\n",
       "4         0       3    male  35.0      0      0   8.0500        S"
      ],
      "text/html": "<div>\n<style scoped>\n    .dataframe tbody tr th:only-of-type {\n        vertical-align: middle;\n    }\n\n    .dataframe tbody tr th {\n        vertical-align: top;\n    }\n\n    .dataframe thead th {\n        text-align: right;\n    }\n</style>\n<table border=\"1\" class=\"dataframe\">\n  <thead>\n    <tr style=\"text-align: right;\">\n      <th></th>\n      <th>Survived</th>\n      <th>Pclass</th>\n      <th>Sex</th>\n      <th>Age</th>\n      <th>SibSp</th>\n      <th>Parch</th>\n      <th>Fare</th>\n      <th>Embarked</th>\n    </tr>\n  </thead>\n  <tbody>\n    <tr>\n      <th>0</th>\n      <td>0</td>\n      <td>3</td>\n      <td>male</td>\n      <td>22.0</td>\n      <td>1</td>\n      <td>0</td>\n      <td>7.2500</td>\n      <td>S</td>\n    </tr>\n    <tr>\n      <th>1</th>\n      <td>1</td>\n      <td>1</td>\n      <td>female</td>\n      <td>38.0</td>\n      <td>1</td>\n      <td>0</td>\n      <td>71.2833</td>\n      <td>C</td>\n    </tr>\n    <tr>\n      <th>2</th>\n      <td>1</td>\n      <td>3</td>\n      <td>female</td>\n      <td>26.0</td>\n      <td>0</td>\n      <td>0</td>\n      <td>7.9250</td>\n      <td>S</td>\n    </tr>\n    <tr>\n      <th>3</th>\n      <td>1</td>\n      <td>1</td>\n      <td>female</td>\n      <td>35.0</td>\n      <td>1</td>\n      <td>0</td>\n      <td>53.1000</td>\n      <td>S</td>\n    </tr>\n    <tr>\n      <th>4</th>\n      <td>0</td>\n      <td>3</td>\n      <td>male</td>\n      <td>35.0</td>\n      <td>0</td>\n      <td>0</td>\n      <td>8.0500</td>\n      <td>S</td>\n    </tr>\n  </tbody>\n</table>\n</div>"
     },
     "metadata": {},
     "execution_count": 6
    }
   ],
   "source": [
    "df.head()"
   ]
  },
  {
   "source": [
    "Случайное разделение исходных данных на train/test датасеты в пропорции 0,7 / 0,3"
   ],
   "cell_type": "markdown",
   "metadata": {}
  },
  {
   "cell_type": "code",
   "execution_count": 7,
   "metadata": {},
   "outputs": [],
   "source": [
    "train, test = train_test_split(df, test_size=0.3)"
   ]
  },
  {
   "source": [
    "Сохранение полученных данных для использования в обучении NeoML"
   ],
   "cell_type": "markdown",
   "metadata": {}
  },
  {
   "cell_type": "code",
   "execution_count": 8,
   "metadata": {},
   "outputs": [],
   "source": [
    "train.to_csv(TRAIN, sep=\"|\")\n",
    "test.to_csv(TEST, sep=\"|\")"
   ]
  },
  {
   "cell_type": "code",
   "execution_count": 9,
   "metadata": {},
   "outputs": [
    {
     "output_type": "execute_result",
     "data": {
      "text/plain": [
       "Survived    623\n",
       "Pclass      623\n",
       "Sex         623\n",
       "Age         486\n",
       "SibSp       623\n",
       "Parch       623\n",
       "Fare        623\n",
       "Embarked    621\n",
       "dtype: int64"
      ]
     },
     "metadata": {},
     "execution_count": 9
    }
   ],
   "source": [
    "train.count()"
   ]
  },
  {
   "source": [
    "Неодинаковое кол-во значений в некоторых столбцах говорит о том, что данные нужно 'полечить'"
   ],
   "cell_type": "markdown",
   "metadata": {}
  },
  {
   "cell_type": "code",
   "execution_count": 10,
   "metadata": {},
   "outputs": [],
   "source": [
    "datasets = [train, test]"
   ]
  },
  {
   "source": [
    "# Подготовка данных\n",
    "\n",
    "## Age\n",
    "\n",
    "Для исправления пропусков в возрасте будем выбирать случайное значение из интервала (mean - sigma; mean + sigma)"
   ],
   "cell_type": "markdown",
   "metadata": {}
  },
  {
   "cell_type": "code",
   "execution_count": 11,
   "metadata": {},
   "outputs": [
    {
     "output_type": "stream",
     "name": "stdout",
     "text": [
      "age-mean='29.71656378600823' age-std='14.578734474903417'\n"
     ]
    }
   ],
   "source": [
    "age_mean = train[\"Age\"].mean()\n",
    "age_std = train[\"Age\"].std()\n",
    "\n",
    "print(\"age-mean='{0}' age-std='{1}'\".format(age_mean, age_std))"
   ]
  },
  {
   "cell_type": "code",
   "execution_count": 12,
   "metadata": {},
   "outputs": [],
   "source": [
    "for ds in datasets:\n",
    "    age_null_count = ds[\"Age\"].isnull().sum()\n",
    "    rand_age = np.random.randint(age_mean - age_std, age_mean + age_std, size=age_null_count)\n",
    "    age_slice = ds[\"Age\"].copy()\n",
    "    age_slice[ np.isnan(age_slice) ] = rand_age\n",
    "    ds[\"Age\"] = age_slice\n",
    "    ds[\"Age\"] = ds[\"Age\"].astype(int)"
   ]
  },
  {
   "source": [
    "## Embarked\n",
    "\n",
    "Будем считать, что отсутствующее значение равно S (Southampton)"
   ],
   "cell_type": "markdown",
   "metadata": {}
  },
  {
   "cell_type": "code",
   "execution_count": 13,
   "metadata": {},
   "outputs": [],
   "source": [
    "for ds in datasets:\n",
    "    ds[\"Embarked\"] = ds[\"Embarked\"].fillna(\"S\")"
   ]
  },
  {
   "cell_type": "code",
   "execution_count": 14,
   "metadata": {},
   "outputs": [
    {
     "output_type": "execute_result",
     "data": {
      "text/plain": [
       "Survived    623\n",
       "Pclass      623\n",
       "Sex         623\n",
       "Age         623\n",
       "SibSp       623\n",
       "Parch       623\n",
       "Fare        623\n",
       "Embarked    623\n",
       "dtype: int64"
      ]
     },
     "metadata": {},
     "execution_count": 14
    }
   ],
   "source": [
    "train.count()"
   ]
  },
  {
   "source": [
    "## Encodes\n",
    "\n",
    "Строковые данные пола и места посадки кодируются с помощью LabelEncoder"
   ],
   "cell_type": "markdown",
   "metadata": {}
  },
  {
   "cell_type": "code",
   "execution_count": 15,
   "metadata": {},
   "outputs": [],
   "source": [
    "sex_encoder = LabelEncoder()\n",
    "sex_encoder.fit(train[\"Sex\"])\n",
    "\n",
    "train[\"Sex\"] = sex_encoder.transform(train[\"Sex\"])\n",
    "test[\"Sex\"] = sex_encoder.transform(test[\"Sex\"])"
   ]
  },
  {
   "cell_type": "code",
   "execution_count": 16,
   "metadata": {},
   "outputs": [],
   "source": [
    "embarked_encode = LabelEncoder()\n",
    "embarked_encode.fit(train[\"Embarked\"])\n",
    "\n",
    "train[\"Embarked\"] = embarked_encode.transform(train[\"Embarked\"])\n",
    "test[\"Embarked\"] = embarked_encode.transform(test[\"Embarked\"])"
   ]
  },
  {
   "source": [
    "## X/Y\n",
    "\n",
    "Из исходных данных подготовим сэмплы для обучения классификатора"
   ],
   "cell_type": "markdown",
   "metadata": {}
  },
  {
   "cell_type": "code",
   "execution_count": 17,
   "metadata": {},
   "outputs": [],
   "source": [
    "X_train = train.drop(\"Survived\", axis=1)\n",
    "Y_train = train[\"Survived\"]\n",
    "\n",
    "X_test = test.drop(\"Survived\", axis=1)\n",
    "Y_test = test[\"Survived\"]"
   ]
  },
  {
   "source": [
    "## Scale\n",
    "\n",
    "Вектора признаков необъодимо скалировать, что бы значения некоторых фич \"не давили\" своим весом"
   ],
   "cell_type": "markdown",
   "metadata": {}
  },
  {
   "cell_type": "code",
   "execution_count": 18,
   "metadata": {},
   "outputs": [],
   "source": [
    "scaler = StandardScaler()\n",
    "scaler.fit(X_train)\n",
    "\n",
    "X_train = scaler.transform(X_train)\n",
    "X_test = scaler.transform(X_test)"
   ]
  },
  {
   "source": [
    "# Обучение"
   ],
   "cell_type": "markdown",
   "metadata": {}
  },
  {
   "source": [
    "## Train\n",
    "\n",
    "Для классификатора выберем модель на основе SVM"
   ],
   "cell_type": "markdown",
   "metadata": {}
  },
  {
   "cell_type": "code",
   "execution_count": 19,
   "metadata": {},
   "outputs": [
    {
     "output_type": "execute_result",
     "data": {
      "text/plain": [
       "SVC(random_state=0)"
      ]
     },
     "metadata": {},
     "execution_count": 19
    }
   ],
   "source": [
    "classifier = SVC(kernel = 'rbf', random_state = 0)\n",
    "classifier.fit(X_train, Y_train)"
   ]
  },
  {
   "source": [
    "## Test"
   ],
   "cell_type": "markdown",
   "metadata": {}
  },
  {
   "cell_type": "code",
   "execution_count": 20,
   "metadata": {},
   "outputs": [
    {
     "output_type": "stream",
     "name": "stdout",
     "text": [
      "Train Acc = 83.79\n"
     ]
    }
   ],
   "source": [
    "Y_train_predict = classifier.predict(X_train)\n",
    "acc = accuracy_score(Y_train, Y_train_predict)\n",
    "\n",
    "print(\"Train Acc = {:.2f}\".format(acc * 100))"
   ]
  },
  {
   "cell_type": "code",
   "execution_count": 21,
   "metadata": {},
   "outputs": [
    {
     "output_type": "stream",
     "name": "stdout",
     "text": [
      "Test Acc = 84.33\n"
     ]
    }
   ],
   "source": [
    "Y_test_predict = classifier.predict(X_test)\n",
    "acc = accuracy_score(Y_test, Y_test_predict)\n",
    "\n",
    "print(\"Test Acc = {:.2f}\".format(acc * 100))"
   ]
  },
  {
   "source": [
    "Запомним значения точности, чтобы сверить с решением на NeoML"
   ],
   "cell_type": "markdown",
   "metadata": {}
  },
  {
   "source": [
    "# Сохранение конфига\n",
    "\n",
    "Для воспроизведения функционала подготовки данных сохраняем параметры в json-конфиг"
   ],
   "cell_type": "markdown",
   "metadata": {}
  },
  {
   "cell_type": "code",
   "execution_count": 22,
   "metadata": {},
   "outputs": [],
   "source": [
    "# Количество полей + 1 (столбец с индексом)\n",
    "fields_count = len(train.count()) + 1\n",
    "\n",
    "config = {\n",
    "    'expected-fields': fields_count,\n",
    "    'min-age': int(age_mean - age_std),\n",
    "    'max-age': int(age_mean + age_std),\n",
    "    'sex-labels': list(sex_encoder.classes_),\n",
    "    'embarked-labels': list(embarked_encode.classes_),\n",
    "    'scaler-mean': list(scaler.mean_),\n",
    "    'scaler-std': list(scaler.scale_)\n",
    "}\n",
    "\n",
    "with open(CONFIG, 'w') as fp:\n",
    "    json.dump(config, fp)"
   ]
  },
  {
   "source": [
    "# NeoML incoming\n",
    "\n",
    "Итак, после исследования имеется в наличии:\n",
    "  - процедура подготовки данных и конфиг, описывающий параметры;\n",
    "  - модель, решающая задачу.\n",
    "\n",
    "Необходимо воспроизвести решение с использованием NeoML.\n",
    "Это позволит создать SDK, которое можно интегрировать в произвольное приложение\n",
    "\n",
    "Что ж, приступим..."
   ],
   "cell_type": "markdown",
   "metadata": {}
  }
 ]
}