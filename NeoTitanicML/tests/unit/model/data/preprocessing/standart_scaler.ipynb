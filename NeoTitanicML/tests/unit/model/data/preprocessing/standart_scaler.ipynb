{
 "metadata": {
  "language_info": {
   "codemirror_mode": {
    "name": "ipython",
    "version": 3
   },
   "file_extension": ".py",
   "mimetype": "text/x-python",
   "name": "python",
   "nbconvert_exporter": "python",
   "pygments_lexer": "ipython3",
   "version": "3.9.2"
  },
  "orig_nbformat": 2,
  "kernelspec": {
   "name": "python392jvsc74a57bd050bb2ec90a159b74dbaae3a6dbdae5dd5e4eb0f03e82b4ed2dfd1799f84dcc9b",
   "display_name": "Python 3.9.2 64-bit"
  }
 },
 "nbformat": 4,
 "nbformat_minor": 2,
 "cells": [
  {
   "cell_type": "code",
   "execution_count": 1,
   "metadata": {},
   "outputs": [],
   "source": [
    "import numpy as np\n",
    "from sklearn.preprocessing import StandardScaler"
   ]
  },
  {
   "cell_type": "code",
   "execution_count": 2,
   "metadata": {},
   "outputs": [],
   "source": [
    "m = np.array(\n",
    "    [\n",
    "        [150, 65, 3],\n",
    "        [420, 53, 8],\n",
    "        [505, 70, 9]\n",
    "    ] )"
   ]
  },
  {
   "cell_type": "code",
   "execution_count": 3,
   "metadata": {},
   "outputs": [
    {
     "output_type": "execute_result",
     "data": {
      "text/plain": [
       "StandardScaler()"
      ]
     },
     "metadata": {},
     "execution_count": 3
    }
   ],
   "source": [
    "scaler = StandardScaler()\n",
    "scaler.fit(m)"
   ]
  },
  {
   "cell_type": "code",
   "execution_count": 4,
   "metadata": {},
   "outputs": [
    {
     "output_type": "stream",
     "name": "stdout",
     "text": [
      "Stats:\n  mean: [358.33333333  62.66666667   6.66666667]\n  variance: [2.29055556e+04 5.08888889e+01 6.88888889e+00]\n  std deviation: [151.34581446   7.13364485   2.62466929]\n"
     ]
    }
   ],
   "source": [
    "print(\"Stats:\")\n",
    "print(\"  mean: {0}\".format(scaler.mean_))\n",
    "print(\"  variance: {0}\".format(scaler.var_))\n",
    "print(\"  std deviation: {0}\".format(scaler.scale_))"
   ]
  },
  {
   "cell_type": "code",
   "execution_count": 5,
   "metadata": {},
   "outputs": [
    {
     "output_type": "execute_result",
     "data": {
      "text/plain": [
       "array([[-1.37653845,  0.32708852, -1.3970014 ],\n",
       "       [ 0.40745538, -1.35508101,  0.50800051],\n",
       "       [ 0.96908307,  1.02799249,  0.88900089]])"
      ]
     },
     "metadata": {},
     "execution_count": 5
    }
   ],
   "source": [
    "scaled = scaler.transform(m)\n",
    "scaled"
   ]
  }
 ]
}